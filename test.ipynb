{
 "cells": [
  {
   "cell_type": "code",
   "execution_count": 447,
   "metadata": {},
   "outputs": [],
   "source": [
    "import pandas as pd\n",
    "import ast "
   ]
  },
  {
   "cell_type": "code",
   "execution_count": 448,
   "metadata": {},
   "outputs": [
    {
     "ename": "ValueError",
     "evalue": "malformed node or string: 0        ['Action', 'Casual', 'Indie', 'Simulation', 'S...\n1             ['Free to Play', 'Indie', 'RPG', 'Strategy']\n2        ['Casual', 'Free to Play', 'Indie', 'Simulatio...\n3                        ['Action', 'Adventure', 'Casual']\n4                    ['Action', 'Adventure', 'Simulation']\n                               ...                        \n29776           ['Action', 'Adventure', 'Casual', 'Indie']\n29777        ['Casual', 'Indie', 'Simulation', 'Strategy']\n29778                      ['Casual', 'Indie', 'Strategy']\n29779                    ['Indie', 'Racing', 'Simulation']\n29780                                  ['Casual', 'Indie']\nName: genres, Length: 29781, dtype: object",
     "output_type": "error",
     "traceback": [
      "\u001b[0;31m---------------------------------------------------------------------------\u001b[0m",
      "\u001b[0;31mValueError\u001b[0m                                Traceback (most recent call last)",
      "Cell \u001b[0;32mIn[448], line 4\u001b[0m\n\u001b[1;32m      1\u001b[0m steam \u001b[39m=\u001b[39m pd\u001b[39m.\u001b[39mread_csv(\u001b[39m'\u001b[39m\u001b[39mdataset/steam_games.csv\u001b[39m\u001b[39m'\u001b[39m)\n\u001b[1;32m      3\u001b[0m \u001b[39m# convertimos las cadenas en valores de lista\u001b[39;00m\n\u001b[0;32m----> 4\u001b[0m steam[\u001b[39m'\u001b[39m\u001b[39mgenres\u001b[39m\u001b[39m'\u001b[39m] \u001b[39m=\u001b[39m ast\u001b[39m.\u001b[39;49mliteral_eval(steam[\u001b[39m'\u001b[39;49m\u001b[39mgenres\u001b[39;49m\u001b[39m'\u001b[39;49m])\n\u001b[1;32m      5\u001b[0m \u001b[39m#convertimos year a tipo entero\u001b[39;00m\n\u001b[1;32m      6\u001b[0m steam[\u001b[39m'\u001b[39m\u001b[39myear\u001b[39m\u001b[39m'\u001b[39m] \u001b[39m=\u001b[39m steam[\u001b[39m'\u001b[39m\u001b[39myear\u001b[39m\u001b[39m'\u001b[39m]\u001b[39m.\u001b[39mastype(\u001b[39mint\u001b[39m)\n",
      "File \u001b[0;32m/Library/Frameworks/Python.framework/Versions/3.11/lib/python3.11/ast.py:110\u001b[0m, in \u001b[0;36mliteral_eval\u001b[0;34m(node_or_string)\u001b[0m\n\u001b[1;32m    108\u001b[0m                 \u001b[39mreturn\u001b[39;00m left \u001b[39m-\u001b[39m right\n\u001b[1;32m    109\u001b[0m     \u001b[39mreturn\u001b[39;00m _convert_signed_num(node)\n\u001b[0;32m--> 110\u001b[0m \u001b[39mreturn\u001b[39;00m _convert(node_or_string)\n",
      "File \u001b[0;32m/Library/Frameworks/Python.framework/Versions/3.11/lib/python3.11/ast.py:109\u001b[0m, in \u001b[0;36mliteral_eval.<locals>._convert\u001b[0;34m(node)\u001b[0m\n\u001b[1;32m    107\u001b[0m         \u001b[39melse\u001b[39;00m:\n\u001b[1;32m    108\u001b[0m             \u001b[39mreturn\u001b[39;00m left \u001b[39m-\u001b[39m right\n\u001b[0;32m--> 109\u001b[0m \u001b[39mreturn\u001b[39;00m _convert_signed_num(node)\n",
      "File \u001b[0;32m/Library/Frameworks/Python.framework/Versions/3.11/lib/python3.11/ast.py:83\u001b[0m, in \u001b[0;36mliteral_eval.<locals>._convert_signed_num\u001b[0;34m(node)\u001b[0m\n\u001b[1;32m     81\u001b[0m     \u001b[39melse\u001b[39;00m:\n\u001b[1;32m     82\u001b[0m         \u001b[39mreturn\u001b[39;00m \u001b[39m-\u001b[39m operand\n\u001b[0;32m---> 83\u001b[0m \u001b[39mreturn\u001b[39;00m _convert_num(node)\n",
      "File \u001b[0;32m/Library/Frameworks/Python.framework/Versions/3.11/lib/python3.11/ast.py:74\u001b[0m, in \u001b[0;36mliteral_eval.<locals>._convert_num\u001b[0;34m(node)\u001b[0m\n\u001b[1;32m     72\u001b[0m \u001b[39mdef\u001b[39;00m \u001b[39m_convert_num\u001b[39m(node):\n\u001b[1;32m     73\u001b[0m     \u001b[39mif\u001b[39;00m \u001b[39mnot\u001b[39;00m \u001b[39misinstance\u001b[39m(node, Constant) \u001b[39mor\u001b[39;00m \u001b[39mtype\u001b[39m(node\u001b[39m.\u001b[39mvalue) \u001b[39mnot\u001b[39;00m \u001b[39min\u001b[39;00m (\u001b[39mint\u001b[39m, \u001b[39mfloat\u001b[39m, \u001b[39mcomplex\u001b[39m):\n\u001b[0;32m---> 74\u001b[0m         _raise_malformed_node(node)\n\u001b[1;32m     75\u001b[0m     \u001b[39mreturn\u001b[39;00m node\u001b[39m.\u001b[39mvalue\n",
      "File \u001b[0;32m/Library/Frameworks/Python.framework/Versions/3.11/lib/python3.11/ast.py:71\u001b[0m, in \u001b[0;36mliteral_eval.<locals>._raise_malformed_node\u001b[0;34m(node)\u001b[0m\n\u001b[1;32m     69\u001b[0m \u001b[39mif\u001b[39;00m lno \u001b[39m:=\u001b[39m \u001b[39mgetattr\u001b[39m(node, \u001b[39m'\u001b[39m\u001b[39mlineno\u001b[39m\u001b[39m'\u001b[39m, \u001b[39mNone\u001b[39;00m):\n\u001b[1;32m     70\u001b[0m     msg \u001b[39m+\u001b[39m\u001b[39m=\u001b[39m \u001b[39mf\u001b[39m\u001b[39m'\u001b[39m\u001b[39m on line \u001b[39m\u001b[39m{\u001b[39;00mlno\u001b[39m}\u001b[39;00m\u001b[39m'\u001b[39m\n\u001b[0;32m---> 71\u001b[0m \u001b[39mraise\u001b[39;00m \u001b[39mValueError\u001b[39;00m(msg \u001b[39m+\u001b[39m \u001b[39mf\u001b[39m\u001b[39m'\u001b[39m\u001b[39m: \u001b[39m\u001b[39m{\u001b[39;00mnode\u001b[39m!r}\u001b[39;00m\u001b[39m'\u001b[39m)\n",
      "\u001b[0;31mValueError\u001b[0m: malformed node or string: 0        ['Action', 'Casual', 'Indie', 'Simulation', 'S...\n1             ['Free to Play', 'Indie', 'RPG', 'Strategy']\n2        ['Casual', 'Free to Play', 'Indie', 'Simulatio...\n3                        ['Action', 'Adventure', 'Casual']\n4                    ['Action', 'Adventure', 'Simulation']\n                               ...                        \n29776           ['Action', 'Adventure', 'Casual', 'Indie']\n29777        ['Casual', 'Indie', 'Simulation', 'Strategy']\n29778                      ['Casual', 'Indie', 'Strategy']\n29779                    ['Indie', 'Racing', 'Simulation']\n29780                                  ['Casual', 'Indie']\nName: genres, Length: 29781, dtype: object"
     ]
    }
   ],
   "source": [
    "steam = pd.read_csv('dataset/steam_games.csv')\n",
    "\n",
    "# convertimos las cadenas en valores de lista\n",
    "steam['genres'] = steam['genres'].apply(lambda x: x.split(''))\n",
    "#convertimos year a tipo entero\n",
    "steam['year'] = steam['year'].astype(int)\n",
    "\n",
    "steam.head()"
   ]
  },
  {
   "cell_type": "code",
   "execution_count": null,
   "metadata": {},
   "outputs": [],
   "source": [
    "#def genero( Año: str ): Se ingresa un año y devuelve una lista con los 5 géneros más usuales en el orden correspondiente.\n",
    "\n",
    "def genero(Año: int):\n",
    "    moviesYear = []\n",
    "    for i in range(len(steam['year'])):\n",
    "        if steam['year'][i] == Año:\n",
    "            moviesYear.append(steam.iloc[i]['genres'])\n",
    "    \n",
    "    #evaluaremos cada genero y lo guardaremos en un diccionario\n",
    "    generos = {}\n",
    "    for i in range(len(moviesYear)):\n",
    "        for j in range(len(moviesYear[i])):\n",
    "            if moviesYear[i][j] in generos:\n",
    "                generos[moviesYear[i][j]] += 1\n",
    "            else:\n",
    "                generos[moviesYear[i][j]] = 1\n",
    "    return generos"
   ]
  },
  {
   "cell_type": "code",
   "execution_count": null,
   "metadata": {},
   "outputs": [],
   "source": [
    "#def juegos( Año: str ): Se ingresa un año y devuelve una lista con los juegos lanzados en el año.\n",
    " \n",
    "def juegos( Año: int ):\n",
    "    juegos = []\n",
    "    juegos = steam[steam['year']==Año]['genres']\n",
    "    return juegos"
   ]
  },
  {
   "cell_type": "code",
   "execution_count": null,
   "metadata": {},
   "outputs": [
    {
     "data": {
      "text/plain": [
       "0        ['Action', 'Casual', 'Indie', 'Simulation', 'S...\n",
       "1             ['Free to Play', 'Indie', 'RPG', 'Strategy']\n",
       "2        ['Casual', 'Free to Play', 'Indie', 'Simulatio...\n",
       "3                        ['Action', 'Adventure', 'Casual']\n",
       "4                    ['Action', 'Adventure', 'Simulation']\n",
       "                               ...                        \n",
       "29776           ['Action', 'Adventure', 'Casual', 'Indie']\n",
       "29777        ['Casual', 'Indie', 'Simulation', 'Strategy']\n",
       "29778                      ['Casual', 'Indie', 'Strategy']\n",
       "29779                    ['Indie', 'Racing', 'Simulation']\n",
       "29780                                  ['Casual', 'Indie']\n",
       "Name: genres, Length: 29781, dtype: object"
      ]
     },
     "execution_count": 446,
     "metadata": {},
     "output_type": "execute_result"
    }
   ],
   "source": [
    "steam['genres']"
   ]
  }
 ],
 "metadata": {
  "kernelspec": {
   "display_name": "Python 3",
   "language": "python",
   "name": "python3"
  },
  "language_info": {
   "codemirror_mode": {
    "name": "ipython",
    "version": 3
   },
   "file_extension": ".py",
   "mimetype": "text/x-python",
   "name": "python",
   "nbconvert_exporter": "python",
   "pygments_lexer": "ipython3",
   "version": "3.11.4"
  },
  "orig_nbformat": 4
 },
 "nbformat": 4,
 "nbformat_minor": 2
}
